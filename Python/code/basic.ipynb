{
 "cells": [
  {
   "cell_type": "code",
   "execution_count": null,
   "metadata": {},
   "outputs": [],
   "source": [
    "# dictionary\n",
    "dict = {\"one\":1, \"two\":2, \"three\":3}"
   ]
  },
  {
   "cell_type": "code",
   "execution_count": null,
   "metadata": {},
   "outputs": [],
   "source": [
    "# enumurate\n",
    "list = [\"orange\", \"apple\", \"lemon\", \"mikan\"]\n",
    "\n",
    "for index, value in enumerate(list):\n",
    "    print(index, value)"
   ]
  },
  {
   "cell_type": "markdown",
   "metadata": {},
   "source": [
    "try: \n",
    "  good\n",
    "except:\n",
    "  bad\n",
    "\n",
    "try:\n",
    "except Exception as e:\n",
    "print(e.args) エラー内容の表示 = e.args\n",
    "\n",
    "//\n",
    "import traceback\n",
    "try:\n",
    "except:\n",
    "  print(traceback.format_exc())"
   ]
  },
  {
   "cell_type": "code",
   "execution_count": 2,
   "metadata": {},
   "outputs": [
    {
     "name": "stdout",
     "output_type": "stream",
     "text": [
      "{'username': 'kssino', 'userid': 30}\n"
     ]
    }
   ],
   "source": [
    "# function\n",
    "def sampleFunction(username, userid):\n",
    "    userInfo = {\"username\": \"hoge\", \"userid\":0}\n",
    "\n",
    "    userInfo[\"username\"] = username\n",
    "    userInfo[\"userid\"] = userid\n",
    "    \n",
    "    return userInfo\n",
    "\n",
    "sample = sampleFunction('kssino', 30)\n",
    "print(sample)\n"
   ]
  },
  {
   "cell_type": "code",
   "execution_count": null,
   "metadata": {},
   "outputs": [],
   "source": []
  }
 ],
 "metadata": {
  "kernelspec": {
   "display_name": "Python 3",
   "language": "python",
   "name": "python3"
  },
  "language_info": {
   "codemirror_mode": {
    "name": "ipython",
    "version": 3
   },
   "file_extension": ".py",
   "mimetype": "text/x-python",
   "name": "python",
   "nbconvert_exporter": "python",
   "pygments_lexer": "ipython3",
   "version": "3.10.8"
  }
 },
 "nbformat": 4,
 "nbformat_minor": 2
}
